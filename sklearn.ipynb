{
 "metadata": {
  "language_info": {
   "codemirror_mode": {
    "name": "ipython",
    "version": 3
   },
   "file_extension": ".py",
   "mimetype": "text/x-python",
   "name": "python",
   "nbconvert_exporter": "python",
   "pygments_lexer": "ipython3",
   "version": "3.7.4"
  },
  "orig_nbformat": 2,
  "kernelspec": {
   "name": "python374jvsc74a57bd008e6333284c2374dde464d492d326d230410e7d68f32c5569fbac02ae65cb4e5",
   "display_name": "Python 3.7.4 64-bit ('base': conda)"
  },
  "metadata": {
   "interpreter": {
    "hash": "08e6333284c2374dde464d492d326d230410e7d68f32c5569fbac02ae65cb4e5"
   }
  }
 },
 "nbformat": 4,
 "nbformat_minor": 2,
 "cells": [
  {
   "cell_type": "code",
   "execution_count": 2,
   "metadata": {},
   "outputs": [
    {
     "output_type": "execute_result",
     "data": {
      "text/plain": [
       "0     5.0000\n",
       "1     6.6500\n",
       "2     8.3000\n",
       "3     9.9167\n",
       "4    11.5000\n",
       "Name: x, dtype: float64"
      ]
     },
     "metadata": {},
     "execution_count": 2
    }
   ],
   "source": [
    "import pandas as pd\n",
    "import numpy as np\n",
    "data =pd.read_excel(\"data.xlsx\")\n",
    "data['x']\n"
   ]
  },
  {
   "cell_type": "code",
   "execution_count": 2,
   "metadata": {},
   "outputs": [
    {
     "output_type": "display_data",
     "data": {
      "text/plain": "<Figure size 432x288 with 1 Axes>",
      "image/svg+xml": "<?xml version=\"1.0\" encoding=\"utf-8\" standalone=\"no\"?>\r\n<!DOCTYPE svg PUBLIC \"-//W3C//DTD SVG 1.1//EN\"\r\n  \"http://www.w3.org/Graphics/SVG/1.1/DTD/svg11.dtd\">\r\n<!-- Created with matplotlib (https://matplotlib.org/) -->\r\n<svg height=\"262.19625pt\" version=\"1.1\" viewBox=\"0 0 382.603125 262.19625\" width=\"382.603125pt\" xmlns=\"http://www.w3.org/2000/svg\" xmlns:xlink=\"http://www.w3.org/1999/xlink\">\r\n <defs>\r\n  <style type=\"text/css\">\r\n*{stroke-linecap:butt;stroke-linejoin:round;}\r\n  </style>\r\n </defs>\r\n <g id=\"figure_1\">\r\n  <g id=\"patch_1\">\r\n   <path d=\"M 0 262.19625 \r\nL 382.603125 262.19625 \r\nL 382.603125 0 \r\nL 0 0 \r\nz\r\n\" style=\"fill:none;\"/>\r\n  </g>\r\n  <g id=\"axes_1\">\r\n   <g id=\"patch_2\">\r\n    <path d=\"M 40.603125 224.64 \r\nL 375.403125 224.64 \r\nL 375.403125 7.2 \r\nL 40.603125 7.2 \r\nz\r\n\" style=\"fill:#ffffff;\"/>\r\n   </g>\r\n   <g id=\"PathCollection_1\">\r\n    <defs>\r\n     <path d=\"M 0 2.236068 \r\nC 0.593012 2.236068 1.161816 2.000462 1.581139 1.581139 \r\nC 2.000462 1.161816 2.236068 0.593012 2.236068 0 \r\nC 2.236068 -0.593012 2.000462 -1.161816 1.581139 -1.581139 \r\nC 1.161816 -2.000462 0.593012 -2.236068 0 -2.236068 \r\nC -0.593012 -2.236068 -1.161816 -2.000462 -1.581139 -1.581139 \r\nC -2.000462 -1.161816 -2.236068 -0.593012 -2.236068 0 \r\nC -2.236068 0.593012 -2.000462 1.161816 -1.581139 1.581139 \r\nC -1.161816 2.000462 -0.593012 2.236068 0 2.236068 \r\nz\r\n\" id=\"m1948fe66cb\" style=\"stroke:#1f77b4;\"/>\r\n    </defs>\r\n    <g clip-path=\"url(#p289b8bdbf7)\">\r\n     <use style=\"fill:#1f77b4;stroke:#1f77b4;\" x=\"55.821307\" xlink:href=\"#m1948fe66cb\" y=\"214.756364\"/>\r\n     <use style=\"fill:#1f77b4;stroke:#1f77b4;\" x=\"133.082845\" xlink:href=\"#m1948fe66cb\" y=\"165.338182\"/>\r\n     <use style=\"fill:#1f77b4;stroke:#1f77b4;\" x=\"210.344384\" xlink:href=\"#m1948fe66cb\" y=\"115.92\"/>\r\n     <use style=\"fill:#1f77b4;stroke:#1f77b4;\" x=\"286.046644\" xlink:href=\"#m1948fe66cb\" y=\"66.501818\"/>\r\n     <use style=\"fill:#1f77b4;stroke:#1f77b4;\" x=\"360.184943\" xlink:href=\"#m1948fe66cb\" y=\"17.083636\"/>\r\n    </g>\r\n   </g>\r\n   <g id=\"matplotlib.axis_1\">\r\n    <g id=\"xtick_1\">\r\n     <g id=\"line2d_1\">\r\n      <defs>\r\n       <path d=\"M 0 0 \r\nL 0 3.5 \r\n\" id=\"mc668ed113a\" style=\"stroke:#000000;stroke-width:0.8;\"/>\r\n      </defs>\r\n      <g>\r\n       <use style=\"stroke:#000000;stroke-width:0.8;\" x=\"55.821307\" xlink:href=\"#mc668ed113a\" y=\"224.64\"/>\r\n      </g>\r\n     </g>\r\n     <g id=\"text_1\">\r\n      <!-- 5 -->\r\n      <defs>\r\n       <path d=\"M 10.796875 72.90625 \r\nL 49.515625 72.90625 \r\nL 49.515625 64.59375 \r\nL 19.828125 64.59375 \r\nL 19.828125 46.734375 \r\nQ 21.96875 47.46875 24.109375 47.828125 \r\nQ 26.265625 48.1875 28.421875 48.1875 \r\nQ 40.625 48.1875 47.75 41.5 \r\nQ 54.890625 34.8125 54.890625 23.390625 \r\nQ 54.890625 11.625 47.5625 5.09375 \r\nQ 40.234375 -1.421875 26.90625 -1.421875 \r\nQ 22.3125 -1.421875 17.546875 -0.640625 \r\nQ 12.796875 0.140625 7.71875 1.703125 \r\nL 7.71875 11.625 \r\nQ 12.109375 9.234375 16.796875 8.0625 \r\nQ 21.484375 6.890625 26.703125 6.890625 \r\nQ 35.15625 6.890625 40.078125 11.328125 \r\nQ 45.015625 15.765625 45.015625 23.390625 \r\nQ 45.015625 31 40.078125 35.4375 \r\nQ 35.15625 39.890625 26.703125 39.890625 \r\nQ 22.75 39.890625 18.8125 39.015625 \r\nQ 14.890625 38.140625 10.796875 36.28125 \r\nz\r\n\" id=\"DejaVuSans-53\"/>\r\n      </defs>\r\n      <g transform=\"translate(52.640057 239.238437)scale(0.1 -0.1)\">\r\n       <use xlink:href=\"#DejaVuSans-53\"/>\r\n      </g>\r\n     </g>\r\n    </g>\r\n    <g id=\"xtick_2\">\r\n     <g id=\"line2d_2\">\r\n      <g>\r\n       <use style=\"stroke:#000000;stroke-width:0.8;\" x=\"102.646482\" xlink:href=\"#mc668ed113a\" y=\"224.64\"/>\r\n      </g>\r\n     </g>\r\n     <g id=\"text_2\">\r\n      <!-- 6 -->\r\n      <defs>\r\n       <path d=\"M 33.015625 40.375 \r\nQ 26.375 40.375 22.484375 35.828125 \r\nQ 18.609375 31.296875 18.609375 23.390625 \r\nQ 18.609375 15.53125 22.484375 10.953125 \r\nQ 26.375 6.390625 33.015625 6.390625 \r\nQ 39.65625 6.390625 43.53125 10.953125 \r\nQ 47.40625 15.53125 47.40625 23.390625 \r\nQ 47.40625 31.296875 43.53125 35.828125 \r\nQ 39.65625 40.375 33.015625 40.375 \r\nz\r\nM 52.59375 71.296875 \r\nL 52.59375 62.3125 \r\nQ 48.875 64.0625 45.09375 64.984375 \r\nQ 41.3125 65.921875 37.59375 65.921875 \r\nQ 27.828125 65.921875 22.671875 59.328125 \r\nQ 17.53125 52.734375 16.796875 39.40625 \r\nQ 19.671875 43.65625 24.015625 45.921875 \r\nQ 28.375 48.1875 33.59375 48.1875 \r\nQ 44.578125 48.1875 50.953125 41.515625 \r\nQ 57.328125 34.859375 57.328125 23.390625 \r\nQ 57.328125 12.15625 50.6875 5.359375 \r\nQ 44.046875 -1.421875 33.015625 -1.421875 \r\nQ 20.359375 -1.421875 13.671875 8.265625 \r\nQ 6.984375 17.96875 6.984375 36.375 \r\nQ 6.984375 53.65625 15.1875 63.9375 \r\nQ 23.390625 74.21875 37.203125 74.21875 \r\nQ 40.921875 74.21875 44.703125 73.484375 \r\nQ 48.484375 72.75 52.59375 71.296875 \r\nz\r\n\" id=\"DejaVuSans-54\"/>\r\n      </defs>\r\n      <g transform=\"translate(99.465232 239.238437)scale(0.1 -0.1)\">\r\n       <use xlink:href=\"#DejaVuSans-54\"/>\r\n      </g>\r\n     </g>\r\n    </g>\r\n    <g id=\"xtick_3\">\r\n     <g id=\"line2d_3\">\r\n      <g>\r\n       <use style=\"stroke:#000000;stroke-width:0.8;\" x=\"149.471656\" xlink:href=\"#mc668ed113a\" y=\"224.64\"/>\r\n      </g>\r\n     </g>\r\n     <g id=\"text_3\">\r\n      <!-- 7 -->\r\n      <defs>\r\n       <path d=\"M 8.203125 72.90625 \r\nL 55.078125 72.90625 \r\nL 55.078125 68.703125 \r\nL 28.609375 0 \r\nL 18.3125 0 \r\nL 43.21875 64.59375 \r\nL 8.203125 64.59375 \r\nz\r\n\" id=\"DejaVuSans-55\"/>\r\n      </defs>\r\n      <g transform=\"translate(146.290406 239.238437)scale(0.1 -0.1)\">\r\n       <use xlink:href=\"#DejaVuSans-55\"/>\r\n      </g>\r\n     </g>\r\n    </g>\r\n    <g id=\"xtick_4\">\r\n     <g id=\"line2d_4\">\r\n      <g>\r\n       <use style=\"stroke:#000000;stroke-width:0.8;\" x=\"196.296831\" xlink:href=\"#mc668ed113a\" y=\"224.64\"/>\r\n      </g>\r\n     </g>\r\n     <g id=\"text_4\">\r\n      <!-- 8 -->\r\n      <defs>\r\n       <path d=\"M 31.78125 34.625 \r\nQ 24.75 34.625 20.71875 30.859375 \r\nQ 16.703125 27.09375 16.703125 20.515625 \r\nQ 16.703125 13.921875 20.71875 10.15625 \r\nQ 24.75 6.390625 31.78125 6.390625 \r\nQ 38.8125 6.390625 42.859375 10.171875 \r\nQ 46.921875 13.96875 46.921875 20.515625 \r\nQ 46.921875 27.09375 42.890625 30.859375 \r\nQ 38.875 34.625 31.78125 34.625 \r\nz\r\nM 21.921875 38.8125 \r\nQ 15.578125 40.375 12.03125 44.71875 \r\nQ 8.5 49.078125 8.5 55.328125 \r\nQ 8.5 64.0625 14.71875 69.140625 \r\nQ 20.953125 74.21875 31.78125 74.21875 \r\nQ 42.671875 74.21875 48.875 69.140625 \r\nQ 55.078125 64.0625 55.078125 55.328125 \r\nQ 55.078125 49.078125 51.53125 44.71875 \r\nQ 48 40.375 41.703125 38.8125 \r\nQ 48.828125 37.15625 52.796875 32.3125 \r\nQ 56.78125 27.484375 56.78125 20.515625 \r\nQ 56.78125 9.90625 50.3125 4.234375 \r\nQ 43.84375 -1.421875 31.78125 -1.421875 \r\nQ 19.734375 -1.421875 13.25 4.234375 \r\nQ 6.78125 9.90625 6.78125 20.515625 \r\nQ 6.78125 27.484375 10.78125 32.3125 \r\nQ 14.796875 37.15625 21.921875 38.8125 \r\nz\r\nM 18.3125 54.390625 \r\nQ 18.3125 48.734375 21.84375 45.5625 \r\nQ 25.390625 42.390625 31.78125 42.390625 \r\nQ 38.140625 42.390625 41.71875 45.5625 \r\nQ 45.3125 48.734375 45.3125 54.390625 \r\nQ 45.3125 60.0625 41.71875 63.234375 \r\nQ 38.140625 66.40625 31.78125 66.40625 \r\nQ 25.390625 66.40625 21.84375 63.234375 \r\nQ 18.3125 60.0625 18.3125 54.390625 \r\nz\r\n\" id=\"DejaVuSans-56\"/>\r\n      </defs>\r\n      <g transform=\"translate(193.115581 239.238437)scale(0.1 -0.1)\">\r\n       <use xlink:href=\"#DejaVuSans-56\"/>\r\n      </g>\r\n     </g>\r\n    </g>\r\n    <g id=\"xtick_5\">\r\n     <g id=\"line2d_5\">\r\n      <g>\r\n       <use style=\"stroke:#000000;stroke-width:0.8;\" x=\"243.122006\" xlink:href=\"#mc668ed113a\" y=\"224.64\"/>\r\n      </g>\r\n     </g>\r\n     <g id=\"text_5\">\r\n      <!-- 9 -->\r\n      <defs>\r\n       <path d=\"M 10.984375 1.515625 \r\nL 10.984375 10.5 \r\nQ 14.703125 8.734375 18.5 7.8125 \r\nQ 22.3125 6.890625 25.984375 6.890625 \r\nQ 35.75 6.890625 40.890625 13.453125 \r\nQ 46.046875 20.015625 46.78125 33.40625 \r\nQ 43.953125 29.203125 39.59375 26.953125 \r\nQ 35.25 24.703125 29.984375 24.703125 \r\nQ 19.046875 24.703125 12.671875 31.3125 \r\nQ 6.296875 37.9375 6.296875 49.421875 \r\nQ 6.296875 60.640625 12.9375 67.421875 \r\nQ 19.578125 74.21875 30.609375 74.21875 \r\nQ 43.265625 74.21875 49.921875 64.515625 \r\nQ 56.59375 54.828125 56.59375 36.375 \r\nQ 56.59375 19.140625 48.40625 8.859375 \r\nQ 40.234375 -1.421875 26.421875 -1.421875 \r\nQ 22.703125 -1.421875 18.890625 -0.6875 \r\nQ 15.09375 0.046875 10.984375 1.515625 \r\nz\r\nM 30.609375 32.421875 \r\nQ 37.25 32.421875 41.125 36.953125 \r\nQ 45.015625 41.5 45.015625 49.421875 \r\nQ 45.015625 57.28125 41.125 61.84375 \r\nQ 37.25 66.40625 30.609375 66.40625 \r\nQ 23.96875 66.40625 20.09375 61.84375 \r\nQ 16.21875 57.28125 16.21875 49.421875 \r\nQ 16.21875 41.5 20.09375 36.953125 \r\nQ 23.96875 32.421875 30.609375 32.421875 \r\nz\r\n\" id=\"DejaVuSans-57\"/>\r\n      </defs>\r\n      <g transform=\"translate(239.940756 239.238437)scale(0.1 -0.1)\">\r\n       <use xlink:href=\"#DejaVuSans-57\"/>\r\n      </g>\r\n     </g>\r\n    </g>\r\n    <g id=\"xtick_6\">\r\n     <g id=\"line2d_6\">\r\n      <g>\r\n       <use style=\"stroke:#000000;stroke-width:0.8;\" x=\"289.947181\" xlink:href=\"#mc668ed113a\" y=\"224.64\"/>\r\n      </g>\r\n     </g>\r\n     <g id=\"text_6\">\r\n      <!-- 10 -->\r\n      <defs>\r\n       <path d=\"M 12.40625 8.296875 \r\nL 28.515625 8.296875 \r\nL 28.515625 63.921875 \r\nL 10.984375 60.40625 \r\nL 10.984375 69.390625 \r\nL 28.421875 72.90625 \r\nL 38.28125 72.90625 \r\nL 38.28125 8.296875 \r\nL 54.390625 8.296875 \r\nL 54.390625 0 \r\nL 12.40625 0 \r\nz\r\n\" id=\"DejaVuSans-49\"/>\r\n       <path d=\"M 31.78125 66.40625 \r\nQ 24.171875 66.40625 20.328125 58.90625 \r\nQ 16.5 51.421875 16.5 36.375 \r\nQ 16.5 21.390625 20.328125 13.890625 \r\nQ 24.171875 6.390625 31.78125 6.390625 \r\nQ 39.453125 6.390625 43.28125 13.890625 \r\nQ 47.125 21.390625 47.125 36.375 \r\nQ 47.125 51.421875 43.28125 58.90625 \r\nQ 39.453125 66.40625 31.78125 66.40625 \r\nz\r\nM 31.78125 74.21875 \r\nQ 44.046875 74.21875 50.515625 64.515625 \r\nQ 56.984375 54.828125 56.984375 36.375 \r\nQ 56.984375 17.96875 50.515625 8.265625 \r\nQ 44.046875 -1.421875 31.78125 -1.421875 \r\nQ 19.53125 -1.421875 13.0625 8.265625 \r\nQ 6.59375 17.96875 6.59375 36.375 \r\nQ 6.59375 54.828125 13.0625 64.515625 \r\nQ 19.53125 74.21875 31.78125 74.21875 \r\nz\r\n\" id=\"DejaVuSans-48\"/>\r\n      </defs>\r\n      <g transform=\"translate(283.584681 239.238437)scale(0.1 -0.1)\">\r\n       <use xlink:href=\"#DejaVuSans-49\"/>\r\n       <use x=\"63.623047\" xlink:href=\"#DejaVuSans-48\"/>\r\n      </g>\r\n     </g>\r\n    </g>\r\n    <g id=\"xtick_7\">\r\n     <g id=\"line2d_7\">\r\n      <g>\r\n       <use style=\"stroke:#000000;stroke-width:0.8;\" x=\"336.772356\" xlink:href=\"#mc668ed113a\" y=\"224.64\"/>\r\n      </g>\r\n     </g>\r\n     <g id=\"text_7\">\r\n      <!-- 11 -->\r\n      <g transform=\"translate(330.409856 239.238437)scale(0.1 -0.1)\">\r\n       <use xlink:href=\"#DejaVuSans-49\"/>\r\n       <use x=\"63.623047\" xlink:href=\"#DejaVuSans-49\"/>\r\n      </g>\r\n     </g>\r\n    </g>\r\n    <g id=\"text_8\">\r\n     <!-- x -->\r\n     <defs>\r\n      <path d=\"M 54.890625 54.6875 \r\nL 35.109375 28.078125 \r\nL 55.90625 0 \r\nL 45.3125 0 \r\nL 29.390625 21.484375 \r\nL 13.484375 0 \r\nL 2.875 0 \r\nL 24.125 28.609375 \r\nL 4.6875 54.6875 \r\nL 15.28125 54.6875 \r\nL 29.78125 35.203125 \r\nL 44.28125 54.6875 \r\nz\r\n\" id=\"DejaVuSans-120\"/>\r\n     </defs>\r\n     <g transform=\"translate(205.04375 252.916562)scale(0.1 -0.1)\">\r\n      <use xlink:href=\"#DejaVuSans-120\"/>\r\n     </g>\r\n    </g>\r\n   </g>\r\n   <g id=\"matplotlib.axis_2\">\r\n    <g id=\"ytick_1\">\r\n     <g id=\"line2d_8\">\r\n      <defs>\r\n       <path d=\"M 0 0 \r\nL -3.5 0 \r\n\" id=\"m22d654d5dc\" style=\"stroke:#000000;stroke-width:0.8;\"/>\r\n      </defs>\r\n      <g>\r\n       <use style=\"stroke:#000000;stroke-width:0.8;\" x=\"40.603125\" xlink:href=\"#m22d654d5dc\" y=\"214.756364\"/>\r\n      </g>\r\n     </g>\r\n     <g id=\"text_9\">\r\n      <!-- 2 -->\r\n      <defs>\r\n       <path d=\"M 19.1875 8.296875 \r\nL 53.609375 8.296875 \r\nL 53.609375 0 \r\nL 7.328125 0 \r\nL 7.328125 8.296875 \r\nQ 12.9375 14.109375 22.625 23.890625 \r\nQ 32.328125 33.6875 34.8125 36.53125 \r\nQ 39.546875 41.84375 41.421875 45.53125 \r\nQ 43.3125 49.21875 43.3125 52.78125 \r\nQ 43.3125 58.59375 39.234375 62.25 \r\nQ 35.15625 65.921875 28.609375 65.921875 \r\nQ 23.96875 65.921875 18.8125 64.3125 \r\nQ 13.671875 62.703125 7.8125 59.421875 \r\nL 7.8125 69.390625 \r\nQ 13.765625 71.78125 18.9375 73 \r\nQ 24.125 74.21875 28.421875 74.21875 \r\nQ 39.75 74.21875 46.484375 68.546875 \r\nQ 53.21875 62.890625 53.21875 53.421875 \r\nQ 53.21875 48.921875 51.53125 44.890625 \r\nQ 49.859375 40.875 45.40625 35.40625 \r\nQ 44.1875 33.984375 37.640625 27.21875 \r\nQ 31.109375 20.453125 19.1875 8.296875 \r\nz\r\n\" id=\"DejaVuSans-50\"/>\r\n      </defs>\r\n      <g transform=\"translate(27.240625 218.555582)scale(0.1 -0.1)\">\r\n       <use xlink:href=\"#DejaVuSans-50\"/>\r\n      </g>\r\n     </g>\r\n    </g>\r\n    <g id=\"ytick_2\">\r\n     <g id=\"line2d_9\">\r\n      <g>\r\n       <use style=\"stroke:#000000;stroke-width:0.8;\" x=\"40.603125\" xlink:href=\"#m22d654d5dc\" y=\"190.047273\"/>\r\n      </g>\r\n     </g>\r\n     <g id=\"text_10\">\r\n      <!-- 3 -->\r\n      <defs>\r\n       <path d=\"M 40.578125 39.3125 \r\nQ 47.65625 37.796875 51.625 33 \r\nQ 55.609375 28.21875 55.609375 21.1875 \r\nQ 55.609375 10.40625 48.1875 4.484375 \r\nQ 40.765625 -1.421875 27.09375 -1.421875 \r\nQ 22.515625 -1.421875 17.65625 -0.515625 \r\nQ 12.796875 0.390625 7.625 2.203125 \r\nL 7.625 11.71875 \r\nQ 11.71875 9.328125 16.59375 8.109375 \r\nQ 21.484375 6.890625 26.8125 6.890625 \r\nQ 36.078125 6.890625 40.9375 10.546875 \r\nQ 45.796875 14.203125 45.796875 21.1875 \r\nQ 45.796875 27.640625 41.28125 31.265625 \r\nQ 36.765625 34.90625 28.71875 34.90625 \r\nL 20.21875 34.90625 \r\nL 20.21875 43.015625 \r\nL 29.109375 43.015625 \r\nQ 36.375 43.015625 40.234375 45.921875 \r\nQ 44.09375 48.828125 44.09375 54.296875 \r\nQ 44.09375 59.90625 40.109375 62.90625 \r\nQ 36.140625 65.921875 28.71875 65.921875 \r\nQ 24.65625 65.921875 20.015625 65.03125 \r\nQ 15.375 64.15625 9.8125 62.3125 \r\nL 9.8125 71.09375 \r\nQ 15.4375 72.65625 20.34375 73.4375 \r\nQ 25.25 74.21875 29.59375 74.21875 \r\nQ 40.828125 74.21875 47.359375 69.109375 \r\nQ 53.90625 64.015625 53.90625 55.328125 \r\nQ 53.90625 49.265625 50.4375 45.09375 \r\nQ 46.96875 40.921875 40.578125 39.3125 \r\nz\r\n\" id=\"DejaVuSans-51\"/>\r\n      </defs>\r\n      <g transform=\"translate(27.240625 193.846491)scale(0.1 -0.1)\">\r\n       <use xlink:href=\"#DejaVuSans-51\"/>\r\n      </g>\r\n     </g>\r\n    </g>\r\n    <g id=\"ytick_3\">\r\n     <g id=\"line2d_10\">\r\n      <g>\r\n       <use style=\"stroke:#000000;stroke-width:0.8;\" x=\"40.603125\" xlink:href=\"#m22d654d5dc\" y=\"165.338182\"/>\r\n      </g>\r\n     </g>\r\n     <g id=\"text_11\">\r\n      <!-- 4 -->\r\n      <defs>\r\n       <path d=\"M 37.796875 64.3125 \r\nL 12.890625 25.390625 \r\nL 37.796875 25.390625 \r\nz\r\nM 35.203125 72.90625 \r\nL 47.609375 72.90625 \r\nL 47.609375 25.390625 \r\nL 58.015625 25.390625 \r\nL 58.015625 17.1875 \r\nL 47.609375 17.1875 \r\nL 47.609375 0 \r\nL 37.796875 0 \r\nL 37.796875 17.1875 \r\nL 4.890625 17.1875 \r\nL 4.890625 26.703125 \r\nz\r\n\" id=\"DejaVuSans-52\"/>\r\n      </defs>\r\n      <g transform=\"translate(27.240625 169.137401)scale(0.1 -0.1)\">\r\n       <use xlink:href=\"#DejaVuSans-52\"/>\r\n      </g>\r\n     </g>\r\n    </g>\r\n    <g id=\"ytick_4\">\r\n     <g id=\"line2d_11\">\r\n      <g>\r\n       <use style=\"stroke:#000000;stroke-width:0.8;\" x=\"40.603125\" xlink:href=\"#m22d654d5dc\" y=\"140.629091\"/>\r\n      </g>\r\n     </g>\r\n     <g id=\"text_12\">\r\n      <!-- 5 -->\r\n      <g transform=\"translate(27.240625 144.42831)scale(0.1 -0.1)\">\r\n       <use xlink:href=\"#DejaVuSans-53\"/>\r\n      </g>\r\n     </g>\r\n    </g>\r\n    <g id=\"ytick_5\">\r\n     <g id=\"line2d_12\">\r\n      <g>\r\n       <use style=\"stroke:#000000;stroke-width:0.8;\" x=\"40.603125\" xlink:href=\"#m22d654d5dc\" y=\"115.92\"/>\r\n      </g>\r\n     </g>\r\n     <g id=\"text_13\">\r\n      <!-- 6 -->\r\n      <g transform=\"translate(27.240625 119.719219)scale(0.1 -0.1)\">\r\n       <use xlink:href=\"#DejaVuSans-54\"/>\r\n      </g>\r\n     </g>\r\n    </g>\r\n    <g id=\"ytick_6\">\r\n     <g id=\"line2d_13\">\r\n      <g>\r\n       <use style=\"stroke:#000000;stroke-width:0.8;\" x=\"40.603125\" xlink:href=\"#m22d654d5dc\" y=\"91.210909\"/>\r\n      </g>\r\n     </g>\r\n     <g id=\"text_14\">\r\n      <!-- 7 -->\r\n      <g transform=\"translate(27.240625 95.010128)scale(0.1 -0.1)\">\r\n       <use xlink:href=\"#DejaVuSans-55\"/>\r\n      </g>\r\n     </g>\r\n    </g>\r\n    <g id=\"ytick_7\">\r\n     <g id=\"line2d_14\">\r\n      <g>\r\n       <use style=\"stroke:#000000;stroke-width:0.8;\" x=\"40.603125\" xlink:href=\"#m22d654d5dc\" y=\"66.501818\"/>\r\n      </g>\r\n     </g>\r\n     <g id=\"text_15\">\r\n      <!-- 8 -->\r\n      <g transform=\"translate(27.240625 70.301037)scale(0.1 -0.1)\">\r\n       <use xlink:href=\"#DejaVuSans-56\"/>\r\n      </g>\r\n     </g>\r\n    </g>\r\n    <g id=\"ytick_8\">\r\n     <g id=\"line2d_15\">\r\n      <g>\r\n       <use style=\"stroke:#000000;stroke-width:0.8;\" x=\"40.603125\" xlink:href=\"#m22d654d5dc\" y=\"41.792727\"/>\r\n      </g>\r\n     </g>\r\n     <g id=\"text_16\">\r\n      <!-- 9 -->\r\n      <g transform=\"translate(27.240625 45.591946)scale(0.1 -0.1)\">\r\n       <use xlink:href=\"#DejaVuSans-57\"/>\r\n      </g>\r\n     </g>\r\n    </g>\r\n    <g id=\"ytick_9\">\r\n     <g id=\"line2d_16\">\r\n      <g>\r\n       <use style=\"stroke:#000000;stroke-width:0.8;\" x=\"40.603125\" xlink:href=\"#m22d654d5dc\" y=\"17.083636\"/>\r\n      </g>\r\n     </g>\r\n     <g id=\"text_17\">\r\n      <!-- 10 -->\r\n      <g transform=\"translate(20.878125 20.882855)scale(0.1 -0.1)\">\r\n       <use xlink:href=\"#DejaVuSans-49\"/>\r\n       <use x=\"63.623047\" xlink:href=\"#DejaVuSans-48\"/>\r\n      </g>\r\n     </g>\r\n    </g>\r\n    <g id=\"text_18\">\r\n     <!-- y -->\r\n     <defs>\r\n      <path d=\"M 32.171875 -5.078125 \r\nQ 28.375 -14.84375 24.75 -17.8125 \r\nQ 21.140625 -20.796875 15.09375 -20.796875 \r\nL 7.90625 -20.796875 \r\nL 7.90625 -13.28125 \r\nL 13.1875 -13.28125 \r\nQ 16.890625 -13.28125 18.9375 -11.515625 \r\nQ 21 -9.765625 23.484375 -3.21875 \r\nL 25.09375 0.875 \r\nL 2.984375 54.6875 \r\nL 12.5 54.6875 \r\nL 29.59375 11.921875 \r\nL 46.6875 54.6875 \r\nL 56.203125 54.6875 \r\nz\r\n\" id=\"DejaVuSans-121\"/>\r\n     </defs>\r\n     <g transform=\"translate(14.798438 118.879375)rotate(-90)scale(0.1 -0.1)\">\r\n      <use xlink:href=\"#DejaVuSans-121\"/>\r\n     </g>\r\n    </g>\r\n   </g>\r\n   <g id=\"patch_3\">\r\n    <path d=\"M 40.603125 224.64 \r\nL 40.603125 7.2 \r\n\" style=\"fill:none;stroke:#000000;stroke-linecap:square;stroke-linejoin:miter;stroke-width:0.8;\"/>\r\n   </g>\r\n   <g id=\"patch_4\">\r\n    <path d=\"M 375.403125 224.64 \r\nL 375.403125 7.2 \r\n\" style=\"fill:none;stroke:#000000;stroke-linecap:square;stroke-linejoin:miter;stroke-width:0.8;\"/>\r\n   </g>\r\n   <g id=\"patch_5\">\r\n    <path d=\"M 40.603125 224.64 \r\nL 375.403125 224.64 \r\n\" style=\"fill:none;stroke:#000000;stroke-linecap:square;stroke-linejoin:miter;stroke-width:0.8;\"/>\r\n   </g>\r\n   <g id=\"patch_6\">\r\n    <path d=\"M 40.603125 7.2 \r\nL 375.403125 7.2 \r\n\" style=\"fill:none;stroke:#000000;stroke-linecap:square;stroke-linejoin:miter;stroke-width:0.8;\"/>\r\n   </g>\r\n  </g>\r\n </g>\r\n <defs>\r\n  <clipPath id=\"p289b8bdbf7\">\r\n   <rect height=\"217.44\" width=\"334.8\" x=\"40.603125\" y=\"7.2\"/>\r\n  </clipPath>\r\n </defs>\r\n</svg>\r\n",
      "image/png": "[encoded data removed]"
     },
     "metadata": {
      "needs_background": "light"
     }
    },
    {
     "output_type": "display_data",
     "data": {
      "text/plain": "<Figure size 432x288 with 0 Axes>"
     },
     "metadata": {}
    }
   ],
   "source": [
    "import matplotlib.pyplot as plt\n",
    "data.plot.scatter(x='x', y='y')\n",
    "plt.show()"
   ]
  },
  {
   "cell_type": "code",
   "execution_count": 4,
   "metadata": {},
   "outputs": [
    {
     "output_type": "execute_result",
     "data": {
      "text/plain": [
       "LinearRegression()"
      ]
     },
     "metadata": {},
     "execution_count": 4
    }
   ],
   "source": [
    "from sklearn.linear_model import LinearRegression\n",
    "features = data['x'].values.reshape(-1, 1)\n",
    "target = data['y']\n",
    "\n",
    "model = LinearRegression()\n",
    "model.fit(features, target)"
   ]
  },
  {
   "cell_type": "code",
   "execution_count": 5,
   "metadata": {},
   "outputs": [
    {
     "output_type": "execute_result",
     "data": {
      "text/plain": [
       "-4.171306571609994"
      ]
     },
     "metadata": {},
     "execution_count": 5
    }
   ],
   "source": [
    "model.intercept_"
   ]
  },
  {
   "cell_type": "code",
   "execution_count": 6,
   "metadata": {},
   "outputs": [
    {
     "output_type": "execute_result",
     "data": {
      "text/plain": [
       "array([1.22940754])"
      ]
     },
     "metadata": {},
     "execution_count": 6
    }
   ],
   "source": [
    "model.coef_"
   ]
  },
  {
   "cell_type": "code",
   "execution_count": 6,
   "metadata": {},
   "outputs": [
    {
     "output_type": "execute_result",
     "data": {
      "text/plain": [
       "0.9883801539342456"
      ]
     },
     "metadata": {},
     "execution_count": 6
    }
   ],
   "source": [
    "model.intercept_\n",
    "model.get_params()\n",
    "model.score(features, target)"
   ]
  },
  {
   "cell_type": "code",
   "execution_count": 7,
   "metadata": {},
   "outputs": [
    {
     "output_type": "execute_result",
     "data": {
      "text/plain": [
       "array([  5.09083263, 149.70647603])"
      ]
     },
     "metadata": {},
     "execution_count": 7
    }
   ],
   "source": [
    "model.predict(np.array([[1],[24]]))"
   ]
  },
  {
   "cell_type": "code",
   "execution_count": 9,
   "metadata": {},
   "outputs": [
    {
     "output_type": "display_data",
     "data": {
      "text/plain": "<Figure size 432x288 with 1 Axes>",
      "image/svg+xml": "<?xml version=\"1.0\" encoding=\"utf-8\" standalone=\"no\"?>\r\n<!DOCTYPE svg PUBLIC \"-//W3C//DTD SVG 1.1//EN\"\r\n  \"http://www.w3.org/Graphics/SVG/1.1/DTD/svg11.dtd\">\r\n<!-- Created with matplotlib (https://matplotlib.org/) -->\r\n<svg height=\"265.995469pt\" version=\"1.1\" viewBox=\"0 0 388.965625 265.995469\" width=\"388.965625pt\" xmlns=\"http://www.w3.org/2000/svg\" xmlns:xlink=\"http://www.w3.org/1999/xlink\">\r\n <defs>\r\n  <style type=\"text/css\">\r\n*{stroke-linecap:butt;stroke-linejoin:round;}\r\n  </style>\r\n </defs>\r\n <g id=\"figure_1\">\r\n  <g id=\"patch_1\">\r\n   <path d=\"M 0 265.995469 \r\nL 388.965625 265.995469 \r\nL 388.965625 0 \r\nL 0 0 \r\nz\r\n\" style=\"fill:none;\"/>\r\n  </g>\r\n  <g id=\"axes_1\">\r\n   <g id=\"patch_2\">\r\n    <path d=\"M 40.603125 228.439219 \r\nL 375.403125 228.439219 \r\nL 375.403125 10.999219 \r\nL 40.603125 10.999219 \r\nz\r\n\" style=\"fill:#ffffff;\"/>\r\n   </g>\r\n   <g id=\"PathCollection_1\">\r\n    <defs>\r\n     <path d=\"M 0 2.236068 \r\nC 0.593012 2.236068 1.161816 2.000462 1.581139 1.581139 \r\nC 2.000462 1.161816 2.236068 0.593012 2.236068 0 \r\nC 2.236068 -0.593012 2.000462 -1.161816 1.581139 -1.581139 \r\nC 1.161816 -2.000462 0.593012 -2.236068 0 -2.236068 \r\nC -0.593012 -2.236068 -1.161816 -2.000462 -1.581139 -1.581139 \r\nC -2.000462 -1.161816 -2.236068 -0.593012 -2.236068 0 \r\nC -2.236068 0.593012 -2.000462 1.161816 -1.581139 1.581139 \r\nC -1.161816 2.000462 -0.593012 2.236068 0 2.236068 \r\nz\r\n\" id=\"mbffb066a4f\" style=\"stroke:#1f77b4;\"/>\r\n    </defs>\r\n    <g clip-path=\"url(#pca330dde65)\">\r\n     <use style=\"fill:#1f77b4;stroke:#1f77b4;\" x=\"96.403125\" xlink:href=\"#mbffb066a4f\" y=\"211.044019\"/>\r\n     <use style=\"fill:#1f77b4;stroke:#1f77b4;\" x=\"114.817125\" xlink:href=\"#mbffb066a4f\" y=\"193.648819\"/>\r\n     <use style=\"fill:#1f77b4;stroke:#1f77b4;\" x=\"133.231125\" xlink:href=\"#mbffb066a4f\" y=\"176.253619\"/>\r\n     <use style=\"fill:#1f77b4;stroke:#1f77b4;\" x=\"151.273497\" xlink:href=\"#mbffb066a4f\" y=\"158.858419\"/>\r\n     <use style=\"fill:#1f77b4;stroke:#1f77b4;\" x=\"168.943125\" xlink:href=\"#mbffb066a4f\" y=\"141.463219\"/>\r\n    </g>\r\n   </g>\r\n   <g id=\"matplotlib.axis_1\">\r\n    <g id=\"xtick_1\">\r\n     <g id=\"line2d_1\">\r\n      <path clip-path=\"url(#pca330dde65)\" d=\"M 40.603125 228.439219 \r\nL 40.603125 10.999219 \r\n\" style=\"fill:none;stroke:#b0b0b0;stroke-linecap:square;stroke-width:0.8;\"/>\r\n     </g>\r\n     <g id=\"line2d_2\">\r\n      <defs>\r\n       <path d=\"M 0 0 \r\nL 0 3.5 \r\n\" id=\"me04ef47e1f\" style=\"stroke:#000000;stroke-width:0.8;\"/>\r\n      </defs>\r\n      <g>\r\n       <use style=\"stroke:#000000;stroke-width:0.8;\" x=\"40.603125\" xlink:href=\"#me04ef47e1f\" y=\"228.439219\"/>\r\n      </g>\r\n     </g>\r\n     <g id=\"text_1\">\r\n      <!-- 0 -->\r\n      <defs>\r\n       <path d=\"M 31.78125 66.40625 \r\nQ 24.171875 66.40625 20.328125 58.90625 \r\nQ 16.5 51.421875 16.5 36.375 \r\nQ 16.5 21.390625 20.328125 13.890625 \r\nQ 24.171875 6.390625 31.78125 6.390625 \r\nQ 39.453125 6.390625 43.28125 13.890625 \r\nQ 47.125 21.390625 47.125 36.375 \r\nQ 47.125 51.421875 43.28125 58.90625 \r\nQ 39.453125 66.40625 31.78125 66.40625 \r\nz\r\nM 31.78125 74.21875 \r\nQ 44.046875 74.21875 50.515625 64.515625 \r\nQ 56.984375 54.828125 56.984375 36.375 \r\nQ 56.984375 17.96875 50.515625 8.265625 \r\nQ 44.046875 -1.421875 31.78125 -1.421875 \r\nQ 19.53125 -1.421875 13.0625 8.265625 \r\nQ 6.59375 17.96875 6.59375 36.375 \r\nQ 6.59375 54.828125 13.0625 64.515625 \r\nQ 19.53125 74.21875 31.78125 74.21875 \r\nz\r\n\" id=\"DejaVuSans-48\"/>\r\n      </defs>\r\n      <g transform=\"translate(37.421875 243.037656)scale(0.1 -0.1)\">\r\n       <use xlink:href=\"#DejaVuSans-48\"/>\r\n      </g>\r\n     </g>\r\n    </g>\r\n    <g id=\"xtick_2\">\r\n     <g id=\"line2d_3\">\r\n      <path clip-path=\"url(#pca330dde65)\" d=\"M 96.403125 228.439219 \r\nL 96.403125 10.999219 \r\n\" style=\"fill:none;stroke:#b0b0b0;stroke-linecap:square;stroke-width:0.8;\"/>\r\n     </g>\r\n     <g id=\"line2d_4\">\r\n      <g>\r\n       <use style=\"stroke:#000000;stroke-width:0.8;\" x=\"96.403125\" xlink:href=\"#me04ef47e1f\" y=\"228.439219\"/>\r\n      </g>\r\n     </g>\r\n     <g id=\"text_2\">\r\n      <!-- 5 -->\r\n      <defs>\r\n       <path d=\"M 10.796875 72.90625 \r\nL 49.515625 72.90625 \r\nL 49.515625 64.59375 \r\nL 19.828125 64.59375 \r\nL 19.828125 46.734375 \r\nQ 21.96875 47.46875 24.109375 47.828125 \r\nQ 26.265625 48.1875 28.421875 48.1875 \r\nQ 40.625 48.1875 47.75 41.5 \r\nQ 54.890625 34.8125 54.890625 23.390625 \r\nQ 54.890625 11.625 47.5625 5.09375 \r\nQ 40.234375 -1.421875 26.90625 -1.421875 \r\nQ 22.3125 -1.421875 17.546875 -0.640625 \r\nQ 12.796875 0.140625 7.71875 1.703125 \r\nL 7.71875 11.625 \r\nQ 12.109375 9.234375 16.796875 8.0625 \r\nQ 21.484375 6.890625 26.703125 6.890625 \r\nQ 35.15625 6.890625 40.078125 11.328125 \r\nQ 45.015625 15.765625 45.015625 23.390625 \r\nQ 45.015625 31 40.078125 35.4375 \r\nQ 35.15625 39.890625 26.703125 39.890625 \r\nQ 22.75 39.890625 18.8125 39.015625 \r\nQ 14.890625 38.140625 10.796875 36.28125 \r\nz\r\n\" id=\"DejaVuSans-53\"/>\r\n      </defs>\r\n      <g transform=\"translate(93.221875 243.037656)scale(0.1 -0.1)\">\r\n       <use xlink:href=\"#DejaVuSans-53\"/>\r\n      </g>\r\n     </g>\r\n    </g>\r\n    <g id=\"xtick_3\">\r\n     <g id=\"line2d_5\">\r\n      <path clip-path=\"url(#pca330dde65)\" d=\"M 152.203125 228.439219 \r\nL 152.203125 10.999219 \r\n\" style=\"fill:none;stroke:#b0b0b0;stroke-linecap:square;stroke-width:0.8;\"/>\r\n     </g>\r\n     <g id=\"line2d_6\">\r\n      <g>\r\n       <use style=\"stroke:#000000;stroke-width:0.8;\" x=\"152.203125\" xlink:href=\"#me04ef47e1f\" y=\"228.439219\"/>\r\n      </g>\r\n     </g>\r\n     <g id=\"text_3\">\r\n      <!-- 10 -->\r\n      <defs>\r\n       <path d=\"M 12.40625 8.296875 \r\nL 28.515625 8.296875 \r\nL 28.515625 63.921875 \r\nL 10.984375 60.40625 \r\nL 10.984375 69.390625 \r\nL 28.421875 72.90625 \r\nL 38.28125 72.90625 \r\nL 38.28125 8.296875 \r\nL 54.390625 8.296875 \r\nL 54.390625 0 \r\nL 12.40625 0 \r\nz\r\n\" id=\"DejaVuSans-49\"/>\r\n      </defs>\r\n      <g transform=\"translate(145.840625 243.037656)scale(0.1 -0.1)\">\r\n       <use xlink:href=\"#DejaVuSans-49\"/>\r\n       <use x=\"63.623047\" xlink:href=\"#DejaVuSans-48\"/>\r\n      </g>\r\n     </g>\r\n    </g>\r\n    <g id=\"xtick_4\">\r\n     <g id=\"line2d_7\">\r\n      <path clip-path=\"url(#pca330dde65)\" d=\"M 208.003125 228.439219 \r\nL 208.003125 10.999219 \r\n\" style=\"fill:none;stroke:#b0b0b0;stroke-linecap:square;stroke-width:0.8;\"/>\r\n     </g>\r\n     <g id=\"line2d_8\">\r\n      <g>\r\n       <use style=\"stroke:#000000;stroke-width:0.8;\" x=\"208.003125\" xlink:href=\"#me04ef47e1f\" y=\"228.439219\"/>\r\n      </g>\r\n     </g>\r\n     <g id=\"text_4\">\r\n      <!-- 15 -->\r\n      <g transform=\"translate(201.640625 243.037656)scale(0.1 -0.1)\">\r\n       <use xlink:href=\"#DejaVuSans-49\"/>\r\n       <use x=\"63.623047\" xlink:href=\"#DejaVuSans-53\"/>\r\n      </g>\r\n     </g>\r\n    </g>\r\n    <g id=\"xtick_5\">\r\n     <g id=\"line2d_9\">\r\n      <path clip-path=\"url(#pca330dde65)\" d=\"M 263.803125 228.439219 \r\nL 263.803125 10.999219 \r\n\" style=\"fill:none;stroke:#b0b0b0;stroke-linecap:square;stroke-width:0.8;\"/>\r\n     </g>\r\n     <g id=\"line2d_10\">\r\n      <g>\r\n       <use style=\"stroke:#000000;stroke-width:0.8;\" x=\"263.803125\" xlink:href=\"#me04ef47e1f\" y=\"228.439219\"/>\r\n      </g>\r\n     </g>\r\n     <g id=\"text_5\">\r\n      <!-- 20 -->\r\n      <defs>\r\n       <path d=\"M 19.1875 8.296875 \r\nL 53.609375 8.296875 \r\nL 53.609375 0 \r\nL 7.328125 0 \r\nL 7.328125 8.296875 \r\nQ 12.9375 14.109375 22.625 23.890625 \r\nQ 32.328125 33.6875 34.8125 36.53125 \r\nQ 39.546875 41.84375 41.421875 45.53125 \r\nQ 43.3125 49.21875 43.3125 52.78125 \r\nQ 43.3125 58.59375 39.234375 62.25 \r\nQ 35.15625 65.921875 28.609375 65.921875 \r\nQ 23.96875 65.921875 18.8125 64.3125 \r\nQ 13.671875 62.703125 7.8125 59.421875 \r\nL 7.8125 69.390625 \r\nQ 13.765625 71.78125 18.9375 73 \r\nQ 24.125 74.21875 28.421875 74.21875 \r\nQ 39.75 74.21875 46.484375 68.546875 \r\nQ 53.21875 62.890625 53.21875 53.421875 \r\nQ 53.21875 48.921875 51.53125 44.890625 \r\nQ 49.859375 40.875 45.40625 35.40625 \r\nQ 44.1875 33.984375 37.640625 27.21875 \r\nQ 31.109375 20.453125 19.1875 8.296875 \r\nz\r\n\" id=\"DejaVuSans-50\"/>\r\n      </defs>\r\n      <g transform=\"translate(257.440625 243.037656)scale(0.1 -0.1)\">\r\n       <use xlink:href=\"#DejaVuSans-50\"/>\r\n       <use x=\"63.623047\" xlink:href=\"#DejaVuSans-48\"/>\r\n      </g>\r\n     </g>\r\n    </g>\r\n    <g id=\"xtick_6\">\r\n     <g id=\"line2d_11\">\r\n      <path clip-path=\"url(#pca330dde65)\" d=\"M 319.603125 228.439219 \r\nL 319.603125 10.999219 \r\n\" style=\"fill:none;stroke:#b0b0b0;stroke-linecap:square;stroke-width:0.8;\"/>\r\n     </g>\r\n     <g id=\"line2d_12\">\r\n      <g>\r\n       <use style=\"stroke:#000000;stroke-width:0.8;\" x=\"319.603125\" xlink:href=\"#me04ef47e1f\" y=\"228.439219\"/>\r\n      </g>\r\n     </g>\r\n     <g id=\"text_6\">\r\n      <!-- 25 -->\r\n      <g transform=\"translate(313.240625 243.037656)scale(0.1 -0.1)\">\r\n       <use xlink:href=\"#DejaVuSans-50\"/>\r\n       <use x=\"63.623047\" xlink:href=\"#DejaVuSans-53\"/>\r\n      </g>\r\n     </g>\r\n    </g>\r\n    <g id=\"xtick_7\">\r\n     <g id=\"line2d_13\">\r\n      <path clip-path=\"url(#pca330dde65)\" d=\"M 375.403125 228.439219 \r\nL 375.403125 10.999219 \r\n\" style=\"fill:none;stroke:#b0b0b0;stroke-linecap:square;stroke-width:0.8;\"/>\r\n     </g>\r\n     <g id=\"line2d_14\">\r\n      <g>\r\n       <use style=\"stroke:#000000;stroke-width:0.8;\" x=\"375.403125\" xlink:href=\"#me04ef47e1f\" y=\"228.439219\"/>\r\n      </g>\r\n     </g>\r\n     <g id=\"text_7\">\r\n      <!-- 30 -->\r\n      <defs>\r\n       <path d=\"M 40.578125 39.3125 \r\nQ 47.65625 37.796875 51.625 33 \r\nQ 55.609375 28.21875 55.609375 21.1875 \r\nQ 55.609375 10.40625 48.1875 4.484375 \r\nQ 40.765625 -1.421875 27.09375 -1.421875 \r\nQ 22.515625 -1.421875 17.65625 -0.515625 \r\nQ 12.796875 0.390625 7.625 2.203125 \r\nL 7.625 11.71875 \r\nQ 11.71875 9.328125 16.59375 8.109375 \r\nQ 21.484375 6.890625 26.8125 6.890625 \r\nQ 36.078125 6.890625 40.9375 10.546875 \r\nQ 45.796875 14.203125 45.796875 21.1875 \r\nQ 45.796875 27.640625 41.28125 31.265625 \r\nQ 36.765625 34.90625 28.71875 34.90625 \r\nL 20.21875 34.90625 \r\nL 20.21875 43.015625 \r\nL 29.109375 43.015625 \r\nQ 36.375 43.015625 40.234375 45.921875 \r\nQ 44.09375 48.828125 44.09375 54.296875 \r\nQ 44.09375 59.90625 40.109375 62.90625 \r\nQ 36.140625 65.921875 28.71875 65.921875 \r\nQ 24.65625 65.921875 20.015625 65.03125 \r\nQ 15.375 64.15625 9.8125 62.3125 \r\nL 9.8125 71.09375 \r\nQ 15.4375 72.65625 20.34375 73.4375 \r\nQ 25.25 74.21875 29.59375 74.21875 \r\nQ 40.828125 74.21875 47.359375 69.109375 \r\nQ 53.90625 64.015625 53.90625 55.328125 \r\nQ 53.90625 49.265625 50.4375 45.09375 \r\nQ 46.96875 40.921875 40.578125 39.3125 \r\nz\r\n\" id=\"DejaVuSans-51\"/>\r\n      </defs>\r\n      <g transform=\"translate(369.040625 243.037656)scale(0.1 -0.1)\">\r\n       <use xlink:href=\"#DejaVuSans-51\"/>\r\n       <use x=\"63.623047\" xlink:href=\"#DejaVuSans-48\"/>\r\n      </g>\r\n     </g>\r\n    </g>\r\n    <g id=\"text_8\">\r\n     <!-- x -->\r\n     <defs>\r\n      <path d=\"M 54.890625 54.6875 \r\nL 35.109375 28.078125 \r\nL 55.90625 0 \r\nL 45.3125 0 \r\nL 29.390625 21.484375 \r\nL 13.484375 0 \r\nL 2.875 0 \r\nL 24.125 28.609375 \r\nL 4.6875 54.6875 \r\nL 15.28125 54.6875 \r\nL 29.78125 35.203125 \r\nL 44.28125 54.6875 \r\nz\r\n\" id=\"DejaVuSans-120\"/>\r\n     </defs>\r\n     <g transform=\"translate(205.04375 256.715781)scale(0.1 -0.1)\">\r\n      <use xlink:href=\"#DejaVuSans-120\"/>\r\n     </g>\r\n    </g>\r\n   </g>\r\n   <g id=\"matplotlib.axis_2\">\r\n    <g id=\"ytick_1\">\r\n     <g id=\"line2d_15\">\r\n      <path clip-path=\"url(#pca330dde65)\" d=\"M 40.603125 228.439219 \r\nL 375.403125 228.439219 \r\n\" style=\"fill:none;stroke:#b0b0b0;stroke-linecap:square;stroke-width:0.8;\"/>\r\n     </g>\r\n     <g id=\"line2d_16\">\r\n      <defs>\r\n       <path d=\"M 0 0 \r\nL -3.5 0 \r\n\" id=\"md262b5539e\" style=\"stroke:#000000;stroke-width:0.8;\"/>\r\n      </defs>\r\n      <g>\r\n       <use style=\"stroke:#000000;stroke-width:0.8;\" x=\"40.603125\" xlink:href=\"#md262b5539e\" y=\"228.439219\"/>\r\n      </g>\r\n     </g>\r\n     <g id=\"text_9\">\r\n      <!-- 0 -->\r\n      <g transform=\"translate(27.240625 232.238437)scale(0.1 -0.1)\">\r\n       <use xlink:href=\"#DejaVuSans-48\"/>\r\n      </g>\r\n     </g>\r\n    </g>\r\n    <g id=\"ytick_2\">\r\n     <g id=\"line2d_17\">\r\n      <path clip-path=\"url(#pca330dde65)\" d=\"M 40.603125 184.951219 \r\nL 375.403125 184.951219 \r\n\" style=\"fill:none;stroke:#b0b0b0;stroke-linecap:square;stroke-width:0.8;\"/>\r\n     </g>\r\n     <g id=\"line2d_18\">\r\n      <g>\r\n       <use style=\"stroke:#000000;stroke-width:0.8;\" x=\"40.603125\" xlink:href=\"#md262b5539e\" y=\"184.951219\"/>\r\n      </g>\r\n     </g>\r\n     <g id=\"text_10\">\r\n      <!-- 5 -->\r\n      <g transform=\"translate(27.240625 188.750437)scale(0.1 -0.1)\">\r\n       <use xlink:href=\"#DejaVuSans-53\"/>\r\n      </g>\r\n     </g>\r\n    </g>\r\n    <g id=\"ytick_3\">\r\n     <g id=\"line2d_19\">\r\n      <path clip-path=\"url(#pca330dde65)\" d=\"M 40.603125 141.463219 \r\nL 375.403125 141.463219 \r\n\" style=\"fill:none;stroke:#b0b0b0;stroke-linecap:square;stroke-width:0.8;\"/>\r\n     </g>\r\n     <g id=\"line2d_20\">\r\n      <g>\r\n       <use style=\"stroke:#000000;stroke-width:0.8;\" x=\"40.603125\" xlink:href=\"#md262b5539e\" y=\"141.463219\"/>\r\n      </g>\r\n     </g>\r\n     <g id=\"text_11\">\r\n      <!-- 10 -->\r\n      <g transform=\"translate(20.878125 145.262437)scale(0.1 -0.1)\">\r\n       <use xlink:href=\"#DejaVuSans-49\"/>\r\n       <use x=\"63.623047\" xlink:href=\"#DejaVuSans-48\"/>\r\n      </g>\r\n     </g>\r\n    </g>\r\n    <g id=\"ytick_4\">\r\n     <g id=\"line2d_21\">\r\n      <path clip-path=\"url(#pca330dde65)\" d=\"M 40.603125 97.975219 \r\nL 375.403125 97.975219 \r\n\" style=\"fill:none;stroke:#b0b0b0;stroke-linecap:square;stroke-width:0.8;\"/>\r\n     </g>\r\n     <g id=\"line2d_22\">\r\n      <g>\r\n       <use style=\"stroke:#000000;stroke-width:0.8;\" x=\"40.603125\" xlink:href=\"#md262b5539e\" y=\"97.975219\"/>\r\n      </g>\r\n     </g>\r\n     <g id=\"text_12\">\r\n      <!-- 15 -->\r\n      <g transform=\"translate(20.878125 101.774437)scale(0.1 -0.1)\">\r\n       <use xlink:href=\"#DejaVuSans-49\"/>\r\n       <use x=\"63.623047\" xlink:href=\"#DejaVuSans-53\"/>\r\n      </g>\r\n     </g>\r\n    </g>\r\n    <g id=\"ytick_5\">\r\n     <g id=\"line2d_23\">\r\n      <path clip-path=\"url(#pca330dde65)\" d=\"M 40.603125 54.487219 \r\nL 375.403125 54.487219 \r\n\" style=\"fill:none;stroke:#b0b0b0;stroke-linecap:square;stroke-width:0.8;\"/>\r\n     </g>\r\n     <g id=\"line2d_24\">\r\n      <g>\r\n       <use style=\"stroke:#000000;stroke-width:0.8;\" x=\"40.603125\" xlink:href=\"#md262b5539e\" y=\"54.487219\"/>\r\n      </g>\r\n     </g>\r\n     <g id=\"text_13\">\r\n      <!-- 20 -->\r\n      <g transform=\"translate(20.878125 58.286437)scale(0.1 -0.1)\">\r\n       <use xlink:href=\"#DejaVuSans-50\"/>\r\n       <use x=\"63.623047\" xlink:href=\"#DejaVuSans-48\"/>\r\n      </g>\r\n     </g>\r\n    </g>\r\n    <g id=\"ytick_6\">\r\n     <g id=\"line2d_25\">\r\n      <path clip-path=\"url(#pca330dde65)\" d=\"M 40.603125 10.999219 \r\nL 375.403125 10.999219 \r\n\" style=\"fill:none;stroke:#b0b0b0;stroke-linecap:square;stroke-width:0.8;\"/>\r\n     </g>\r\n     <g id=\"line2d_26\">\r\n      <g>\r\n       <use style=\"stroke:#000000;stroke-width:0.8;\" x=\"40.603125\" xlink:href=\"#md262b5539e\" y=\"10.999219\"/>\r\n      </g>\r\n     </g>\r\n     <g id=\"text_14\">\r\n      <!-- 25 -->\r\n      <g transform=\"translate(20.878125 14.798437)scale(0.1 -0.1)\">\r\n       <use xlink:href=\"#DejaVuSans-50\"/>\r\n       <use x=\"63.623047\" xlink:href=\"#DejaVuSans-53\"/>\r\n      </g>\r\n     </g>\r\n    </g>\r\n    <g id=\"text_15\">\r\n     <!-- y -->\r\n     <defs>\r\n      <path d=\"M 32.171875 -5.078125 \r\nQ 28.375 -14.84375 24.75 -17.8125 \r\nQ 21.140625 -20.796875 15.09375 -20.796875 \r\nL 7.90625 -20.796875 \r\nL 7.90625 -13.28125 \r\nL 13.1875 -13.28125 \r\nQ 16.890625 -13.28125 18.9375 -11.515625 \r\nQ 21 -9.765625 23.484375 -3.21875 \r\nL 25.09375 0.875 \r\nL 2.984375 54.6875 \r\nL 12.5 54.6875 \r\nL 29.59375 11.921875 \r\nL 46.6875 54.6875 \r\nL 56.203125 54.6875 \r\nz\r\n\" id=\"DejaVuSans-121\"/>\r\n     </defs>\r\n     <g transform=\"translate(14.798438 122.678594)rotate(-90)scale(0.1 -0.1)\">\r\n      <use xlink:href=\"#DejaVuSans-121\"/>\r\n     </g>\r\n    </g>\r\n   </g>\r\n   <g id=\"line2d_27\">\r\n    <path clip-path=\"url(#pca330dde65)\" d=\"M 51.763125 254.02668 \r\nL 317.930308 -1 \r\nM 317.930308 -1 \r\nL 152.203125 157.790625 \r\nL 317.930308 -1 \r\nM 317.930308 -1 \r\nL 96.403125 211.2551 \r\nL 317.930308 -1 \r\nM 317.930308 -1 \r\nL 141.043125 168.48352 \r\nL 317.930308 -1 \r\nM 317.930308 -1 \r\nL 163.363125 147.09773 \r\nL 317.930308 -1 \r\nM 317.930308 -1 \r\nL 40.603125 264.719575 \r\nL 317.930308 -1 \r\nM 317.930308 -1 \r\nL 74.083125 232.64089 \r\nL 317.930308 -1 \r\nM 317.930308 -1 \r\nL 107.563125 200.562205 \r\nL 317.930308 -1 \r\nM 317.930308 -1 \r\nL 74.083125 232.64089 \r\nL 317.930308 -1 \r\nM 317.930308 -1 \r\nL 40.603125 264.719575 \r\nL 317.930308 -1 \r\nM 317.930308 -1 \r\nL 40.603125 264.719575 \r\nL 317.930308 -1 \r\nM 317.930308 -1 \r\nL 40.603125 264.719575 \r\nL 317.930308 -1 \r\nM 317.930308 -1 \r\nL 107.563125 200.562205 \r\nL 317.930308 -1 \r\nM 317.930308 -1 \r\nL 152.203125 157.790625 \r\nL 317.930308 -1 \r\nM 317.930308 -1 \r\nL 241.483125 72.247465 \r\nL 317.930308 -1 \r\nM 317.930308 -1 \r\nL 107.563125 200.562205 \r\nL 317.930308 -1 \r\nM 317.930308 -1 \r\nL 74.083125 232.64089 \r\nL 317.930308 -1 \r\nM 317.930308 -1 \r\nL 40.603125 264.719575 \r\nL 317.930308 -1 \r\nM 317.930308 -1 \r\nL 129.883125 179.176415 \r\nL 317.930308 -1 \r\nM 317.930308 -1 \r\nL 40.603125 264.719575 \r\nL 317.930308 -1 \r\nM 317.930308 -1 \r\nL 62.923125 243.333785 \r\nL 317.930308 -1 \r\nM 317.930308 -1 \r\nL 62.923125 243.333785 \r\nL 317.930308 -1 \r\nM 317.930308 -1 \r\nL 51.763125 254.02668 \r\nL 317.930308 -1 \r\nM 317.930308 -1 \r\nL 40.603125 264.719575 \r\nL 317.930308 -1 \r\nM 317.930308 -1 \r\nL 51.763125 254.02668 \r\nL 317.930308 -1 \r\nM 317.930308 -1 \r\nL 129.883125 179.176415 \r\nL 317.930308 -1 \r\nM 317.930308 -1 \r\nL 118.723125 189.86931 \r\nL 317.930308 -1 \r\nM 317.930308 -1 \r\nL 152.203125 157.790625 \r\nL 317.930308 -1 \r\nM 317.930308 -1 \r\nL 85.243125 221.947995 \r\nL 317.930308 -1 \r\nM 317.930308 -1 \r\nL 51.763125 254.02668 \r\nL 317.930308 -1 \r\nM 317.930308 -1 \r\nL 129.883125 179.176415 \r\nL 317.930308 -1 \r\nM 317.930308 -1 \r\nL 85.243125 221.947995 \r\nL 317.930308 -1 \r\nM 317.930308 -1 \r\nL 263.803125 50.861675 \r\nL 317.930308 -1 \r\nM 317.930308 -1 \r\nL 96.403125 211.2551 \r\nL 317.930308 -1 \r\nM 317.930308 -1 \r\nL 51.763125 254.02668 \r\nL 317.930308 -1 \r\nM 317.930308 -1 \r\nL 62.923125 243.333785 \r\nL 317.930308 -1 \r\nM 317.930308 -1 \r\nL 141.043125 168.48352 \r\nL 317.930308 -1 \r\nM 317.930308 -1 \r\nL 85.243125 221.947995 \r\nL 317.930308 -1 \r\nM 317.930308 -1 \r\nL 51.763125 254.02668 \r\nL 317.930308 -1 \r\nM 317.930308 -1 \r\nL 40.603125 264.719575 \r\nL 317.930308 -1 \r\nM 317.930308 -1 \r\nL 62.923125 243.333785 \r\nL 317.930308 -1 \r\nM 317.930308 -1 \r\nL 51.763125 254.02668 \r\nL 317.930308 -1 \r\nM 317.930308 -1 \r\nL 40.603125 264.719575 \r\nL 317.930308 -1 \r\nM 317.930308 -1 \r\nL 51.763125 254.02668 \r\nL 317.930308 -1 \r\nM 317.930308 -1 \r\nL 62.923125 243.333785 \r\nL 317.930308 -1 \r\nM 317.930308 -1 \r\nL 51.763125 254.02668 \r\nL 317.930308 -1 \r\nM 317.930308 -1 \r\nL 185.683125 125.71194 \r\nL 317.930308 -1 \r\nM 317.930308 -1 \r\nL 96.403125 211.2551 \r\nL 317.930308 -1 \r\nM 317.930308 -1 \r\nL 51.763125 254.02668 \r\nL 317.930308 -1 \r\nM 317.930308 -1 \r\nL 219.163125 93.633255 \r\nL 317.930308 -1 \r\nM 317.930308 -1 \r\nL 40.603125 264.719575 \r\nL 317.930308 -1 \r\nM 317.930308 -1 \r\nL 107.563125 200.562205 \r\nL 317.930308 -1 \r\nM 317.930308 -1 \r\nL 85.243125 221.947995 \r\nL 317.930308 -1 \r\nM 317.930308 -1 \r\nL 107.563125 200.562205 \r\nL 317.930308 -1 \r\nM 317.930308 -1 \r\nL 129.883125 179.176415 \r\nL 317.930308 -1 \r\nM 317.930308 -1 \r\nL 62.923125 243.333785 \r\nL 317.930308 -1 \r\nM 317.930308 -1 \r\nL 51.763125 254.02668 \r\nL 317.930308 -1 \r\nM 317.930308 -1 \r\nL 129.883125 179.176415 \r\nL 317.930308 -1 \r\nM 317.930308 -1 \r\nL 51.763125 254.02668 \r\nL 317.930308 -1 \r\nM 317.930308 -1 \r\nL 74.083125 232.64089 \r\nL 317.930308 -1 \r\nM 317.930308 -1 \r\nL 85.243125 221.947995 \r\nL 317.930308 -1 \r\nM 317.930308 -1 \r\nL 74.083125 232.64089 \r\nL 317.930308 -1 \r\nM 317.930308 -1 \r\nL 152.203125 157.790625 \r\nL 317.930308 -1 \r\nM 317.930308 -1 \r\nL 96.403125 211.2551 \r\nL 317.930308 -1 \r\nM 317.930308 -1 \r\nL 85.243125 221.947995 \r\nL 317.930308 -1 \r\nM 317.930308 -1 \r\nL 96.403125 211.2551 \r\nL 317.930308 -1 \r\nM 317.930308 -1 \r\nL 51.763125 254.02668 \r\nL 317.930308 -1 \r\nM 317.930308 -1 \r\nL 118.723125 189.86931 \r\nL 317.930308 -1 \r\nM 317.930308 -1 \r\nL 62.923125 243.333785 \r\nL 317.930308 -1 \r\nM 317.930308 -1 \r\nL 62.923125 243.333785 \r\nL 317.930308 -1 \r\nM 317.930308 -1 \r\nL 85.243125 221.947995 \r\nL 317.930308 -1 \r\nM 317.930308 -1 \r\nL 129.883125 179.176415 \r\nL 317.930308 -1 \r\nM 317.930308 -1 \r\nL 74.083125 232.64089 \r\nL 317.930308 -1 \r\nM 317.930308 -1 \r\nL 85.243125 221.947995 \r\nL 317.930308 -1 \r\nM 317.930308 -1 \r\nL 40.603125 264.719575 \r\nL 317.930308 -1 \r\nM 317.930308 -1 \r\nL 185.683125 125.71194 \r\nL 317.930308 -1 \r\nM 317.930308 -1 \r\nL 40.603125 264.719575 \r\nL 317.930308 -1 \r\nM 317.930308 -1 \r\nL 40.603125 264.719575 \r\nL 317.930308 -1 \r\nM 317.930308 -1 \r\nL 96.403125 211.2551 \r\nL 317.930308 -1 \r\nM 317.930308 -1 \r\nL 230.323125 82.94036 \r\nL 317.930308 -1 \r\nM 317.930308 -1 \r\nL 85.243125 221.947995 \r\nL 317.930308 -1 \r\nM 317.930308 -1 \r\nL 40.603125 264.719575 \r\nL 317.930308 -1 \r\nM 317.930308 -1 \r\nL 40.603125 264.719575 \r\nL 317.930308 -1 \r\nM 317.930308 -1 \r\nL 96.403125 211.2551 \r\nL 317.930308 -1 \r\nM 317.930308 -1 \r\nL 62.923125 243.333785 \r\nL 317.930308 -1 \r\nM 317.930308 -1 \r\nL 141.043125 168.48352 \r\nL 317.930308 -1 \r\nM 317.930308 -1 \r\nL 163.363125 147.09773 \r\nL 317.930308 -1 \r\nM 317.930308 -1 \r\nL 196.843125 115.019045 \r\nL 317.930308 -1 \r\nM 317.930308 -1 \r\nL 51.763125 254.02668 \r\nL 317.930308 -1 \r\nM 317.930308 -1 \r\nL 62.923125 243.333785 \r\nL 317.930308 -1 \r\nM 317.930308 -1 \r\nL 51.763125 254.02668 \r\nL 317.930308 -1 \r\nM 317.930308 -1 \r\nL 118.723125 189.86931 \r\nL 317.930308 -1 \r\nM 317.930308 -1 \r\nL 40.603125 264.719575 \r\nL 317.930308 -1 \r\nM 317.930308 -1 \r\nL 51.763125 254.02668 \r\nL 317.930308 -1 \r\nM 317.930308 -1 \r\nL 118.723125 189.86931 \r\nL 317.930308 -1 \r\nM 317.930308 -1 \r\nL 85.243125 221.947995 \r\nL 317.930308 -1 \r\nM 317.930308 -1 \r\nL 230.323125 82.94036 \r\nL 317.930308 -1 \r\nM 317.930308 -1 \r\nL 85.243125 221.947995 \r\nL 317.930308 -1 \r\nM 317.930308 -1 \r\nL 118.723125 189.86931 \r\nL 317.930308 -1 \r\nM 317.930308 -1 \r\nL 185.683125 125.71194 \r\nL 317.930308 -1 \r\nM 317.930308 -1 \r\nL 74.083125 232.64089 \r\nL 317.930308 -1 \r\nM 317.930308 -1 \r\nL 40.603125 264.719575 \r\nL 317.930308 -1 \r\nM 317.930308 -1 \r\nL 118.723125 189.86931 \r\nL 317.930308 -1 \r\nM 317.930308 -1 \r\nL 40.603125 264.719575 \r\nL 317.930308 -1 \r\nM 317.930308 -1 \r\nL 51.763125 254.02668 \r\nL 317.930308 -1 \r\nM 317.930308 -1 \r\nL 85.243125 221.947995 \r\nL 317.930308 -1 \r\nM 317.930308 -1 \r\nL 152.203125 157.790625 \r\nL 317.930308 -1 \r\nM 317.930308 -1 \r\nL 74.083125 232.64089 \r\nL 317.930308 -1 \r\nM 317.930308 -1 \r\nL 174.523125 136.404835 \r\nL 317.930308 -1 \r\nM 317.930308 -1 \r\nL 174.523125 136.404835 \r\nL 317.930308 -1 \r\nM 317.930308 -1 \r\nL 51.763125 254.02668 \r\nL 317.930308 -1 \r\nM 317.930308 -1 \r\nL 40.603125 264.719575 \r\nL 317.930308 -1 \r\nM 317.930308 -1 \r\nL 163.363125 147.09773 \r\nL 317.930308 -1 \r\nM 317.930308 -1 \r\nL 96.403125 211.2551 \r\nL 317.930308 -1 \r\nM 317.930308 -1 \r\nL 62.923125 243.333785 \r\nL 317.930308 -1 \r\nM 317.930308 -1 \r\nL 51.763125 254.02668 \r\nL 317.930308 -1 \r\nM 317.930308 -1 \r\nL 107.563125 200.562205 \r\nL 317.930308 -1 \r\nM 317.930308 -1 \r\nL 163.363125 147.09773 \r\nL 317.930308 -1 \r\nM 317.930308 -1 \r\nL 118.723125 189.86931 \r\nL 317.930308 -1 \r\nM 317.930308 -1 \r\nL 40.603125 264.719575 \r\nL 317.930308 -1 \r\nM 317.930308 -1 \r\nL 51.763125 254.02668 \r\nL 317.930308 -1 \r\nM 317.930308 -1 \r\nL 96.403125 211.2551 \r\nL 317.930308 -1 \r\nM 317.930308 -1 \r\nL 62.923125 243.333785 \r\nL 185.683125 125.71194 \r\n\" style=\"fill:none;stroke:#ff0000;stroke-linecap:square;stroke-width:1.5;\"/>\r\n   </g>\r\n   <g id=\"patch_3\">\r\n    <path d=\"M 40.603125 228.439219 \r\nL 40.603125 10.999219 \r\n\" style=\"fill:none;stroke:#000000;stroke-linecap:square;stroke-linejoin:miter;stroke-width:0.8;\"/>\r\n   </g>\r\n   <g id=\"patch_4\">\r\n    <path d=\"M 375.403125 228.439219 \r\nL 375.403125 10.999219 \r\n\" style=\"fill:none;stroke:#000000;stroke-linecap:square;stroke-linejoin:miter;stroke-width:0.8;\"/>\r\n   </g>\r\n   <g id=\"patch_5\">\r\n    <path d=\"M 40.603125 228.439219 \r\nL 375.403125 228.439219 \r\n\" style=\"fill:none;stroke:#000000;stroke-linecap:square;stroke-linejoin:miter;stroke-width:0.8;\"/>\r\n   </g>\r\n   <g id=\"patch_6\">\r\n    <path d=\"M 40.603125 10.999219 \r\nL 375.403125 10.999219 \r\n\" style=\"fill:none;stroke:#000000;stroke-linecap:square;stroke-linejoin:miter;stroke-width:0.8;\"/>\r\n   </g>\r\n  </g>\r\n </g>\r\n <defs>\r\n  <clipPath id=\"pca330dde65\">\r\n   <rect height=\"217.44\" width=\"334.8\" x=\"40.603125\" y=\"10.999219\"/>\r\n  </clipPath>\r\n </defs>\r\n</svg>\r\n",
      "image/png": "[encoded data removed]"
     },
     "metadata": {
      "needs_background": "light"
     }
    }
   ],
   "source": [
    "x = np.random.randint(0,30,1000)\n",
    "data.plot.scatter(x='x', y='y')\n",
    "y_line = model.coef_ * x +model.intercept_\n",
    "plt.plot(x, y_line, color='r')\n",
    "plt.axis([0,30,0,25])\n",
    "plt.grid()\n",
    "plt.savefig('test.png')\n",
    "plt.show()\n"
   ]
  },
  {
   "cell_type": "code",
   "execution_count": 9,
   "metadata": {},
   "outputs": [
    {
     "output_type": "stream",
     "name": "stderr",
     "text": [
      "C:\\Users\\ChaiPC\\Anaconda3\\lib\\site-packages\\pyecharts\\charts\\chart.py:14: PendingDeprecationWarning: pyecharts 所有图表类型将在 v1.9.0 版本开始强制使用 ChartItem 进行数据项配置 :)\n  super().__init__(init_opts=init_opts)\nC:\\Users\\ChaiPC\\Anaconda3\\lib\\site-packages\\pyecharts\\charts\\chart.py:14: PendingDeprecationWarning: pyecharts 所有图表类型将在 v1.9.0 版本开始强制使用 ChartItem 进行数据项配置 :)\n  super().__init__(init_opts=init_opts)\n"
     ]
    },
    {
     "output_type": "execute_result",
     "data": {
      "text/plain": [
       "0"
      ]
     },
     "metadata": {},
     "execution_count": 9
    }
   ],
   "source": [
    "import pyecharts.options as opts\n",
    "from pyecharts.charts import Line, Scatter\n",
    "\n",
    "x_data = range(1,25)\n",
    "y_data = model.coef_ * x_data +model.intercept_\n",
    "line = Line()\n",
    "(\n",
    "    line\n",
    "    .set_global_opts(\n",
    "        tooltip_opts=opts.TooltipOpts(is_show=False),\n",
    "        xaxis_opts=opts.AxisOpts(type_=\"category\"),\n",
    "        yaxis_opts=opts.AxisOpts(\n",
    "            type_=\"value\",\n",
    "            axistick_opts=opts.AxisTickOpts(is_show=True),\n",
    "            splitline_opts=opts.SplitLineOpts(is_show=True),\n",
    "        ),\n",
    "    )\n",
    "    .add_xaxis(xaxis_data=x_data)\n",
    "    .add_yaxis(\n",
    "        series_name=\"\",\n",
    "        y_axis=y_data,\n",
    "        symbol=\"emptyCircle\",\n",
    "        is_symbol_show=False,\n",
    "        label_opts=opts.LabelOpts(is_show=False),\n",
    "    )\n",
    ")\n",
    "\n",
    "\n",
    "\n",
    "x_data = data['x'].tolist()\n",
    "y_data = data['y'].tolist()\n",
    "scatter = (\n",
    "    Scatter(init_opts=opts.InitOpts(width=\"800px\", height=\"800px\"))\n",
    "    .add_xaxis(xaxis_data=x_data)\n",
    "    .add_yaxis(\n",
    "        series_name=\"\",\n",
    "        y_axis=y_data,\n",
    "        symbol_size=20,\n",
    "        label_opts=opts.LabelOpts(is_show=False),\n",
    "    )\n",
    "    .set_series_opts()\n",
    "    .set_global_opts(\n",
    "        xaxis_opts=opts.AxisOpts(\n",
    "            type_=\"value\", splitline_opts=opts.SplitLineOpts(is_show=True)\n",
    "        ),\n",
    "        yaxis_opts=opts.AxisOpts(\n",
    "            type_=\"value\",\n",
    "            axistick_opts=opts.AxisTickOpts(is_show=True),\n",
    "            splitline_opts=opts.SplitLineOpts(is_show=True),\n",
    "        ),\n",
    "        tooltip_opts=opts.TooltipOpts(is_show=False),\n",
    "    )\n",
    "    .overlap(line)\n",
    "    \n",
    "    .render(\"basic_scatter_chart.html\")\n",
    ")\n",
    "os.system(\"basic_scatter_chart.html\")"
   ]
  },
  {
   "cell_type": "code",
   "execution_count": 12,
   "metadata": {},
   "outputs": [
    {
     "output_type": "execute_result",
     "data": {
      "text/plain": [
       "'1.106'"
      ]
     },
     "metadata": {},
     "execution_count": 12
    }
   ],
   "source": [
    "\n",
    "from decimal import Decimal\n",
    "def to_decimal(num, exp=\"0.00\") -> Decimal:\n",
    "    if not num:\n",
    "        return Decimal(\"0\").quantize(exp=Decimal(exp))\n",
    "    if not isinstance(num, str):\n",
    "        num = str(num)\n",
    "    return Decimal(num).quantize(exp=Decimal(exp))\n",
    "\n",
    "dcm = '0.000'\n",
    "str(to_decimal(1.106,dcm))"
   ]
  },
  {
   "cell_type": "code",
   "execution_count": 20,
   "metadata": {},
   "outputs": [
    {
     "output_type": "stream",
     "name": "stdout",
     "text": [
      "-4.17 1.23\n(-4.171306571609994, 1.2294075393504913)\n"
     ]
    }
   ],
   "source": [
    "\n",
    "from decimal import Decimal\n",
    "from sklearn.linear_model import LinearRegression\n",
    "def reg(features, target, dcm):\n",
    "    model = LinearRegression()\n",
    "    features = pd.DataFrame(features).values.reshape(-1, 1)\n",
    "    target = pd.DataFrame(target)\n",
    "    model.fit(features, target)\n",
    "    intercept = float(model.intercept_)\n",
    "    coef = float(model.coef_[0])\n",
    "    print(to_decimal(intercept, dcm), to_decimal(coef, dcm))\n",
    "    return intercept, coef\n",
    "\n",
    "\n",
    "def to_decimal(num, exp=\"0.00\") -> Decimal:\n",
    "    if not num:\n",
    "        return Decimal(\"0\").quantize(exp=Decimal(exp))\n",
    "    if not isinstance(num, str):\n",
    "        num = str(num)\n",
    "    return Decimal(num).quantize(exp=Decimal(exp))\n",
    "\n",
    "\n",
    "features = data['x'].values.reshape(-1, 1)\n",
    "target = data['y']\n",
    "dcm = '0.00'\n",
    "print(reg(features, target, dcm))\n"
   ]
  },
  {
   "cell_type": "code",
   "execution_count": 12,
   "metadata": {},
   "outputs": [
    {
     "output_type": "execute_result",
     "data": {
      "text/plain": [
       "'\\n        <!DOCTYPE html>\\n        <html lang=\"zh-CN\">\\n        <head>\\n            <meta charset=\"utf-8\">\\n            <title>校准结果</title>\\n        </head>\\n        <style>\\n            .container{\\n                width: 700px;\\n                /* height: 1123px; */\\n                height: 1000px;\\n                margin-left: auto;\\n                margin-right: auto;\\n                border: 1px black solid;\\n                overflow: hidden;\\n            }\\n            .title{\\n                width: 600px;\\n                overflow: hidden;\\n                padding: 0;\\n                word-break:break-all;\\n                margin-left: auto;\\n                margin-right: auto;\\n                padding-top: 50px;\\n            }\\n            .title>h1{\\n                text-align: center;\\n                line-height: 20px;\\n                padding-left: 20px;\\n                padding-right: 20px;\\n            }\\n\\n            p{\\n                line-height: 15px;\\n                padding-left: 20px;\\n                padding-right: 20px;\\n            }\\n            .tab{\\n                width: 600px;\\n                padding: 0;\\n                word-break:break-all;\\n                margin-left: auto;\\n                margin-right: auto;\\n            }\\n            table{\\n                border-collapse: collapse;\\n                text-align: center;\\n                padding: 2px;\\n            }\\n            .figure{\\n                width: 500px;\\n                height: 500px;\\n                padding-left: 50px;\\n                padding-right: 50px;\\n                \\n            }\\n            .head{\\n                width: 120px;\\n                height: 40px;\\n            }\\n            .para{\\n                width: 60px;\\n                height: 40px;\\n            }\\n            footer{\\n                text-align: center;\\n            }\\n        </style>\\n        <body>\\n            <div class=\"container\">\\n                <div class=\"title\">\\n                    <h1>校准结果</h1>\\n                    <h1>RESULTS OF CALIBRATIONS</h1>\\n                    <p><strong>证书编号：1</strong></h2>\\n                    <p>Certificate  No:2</h2>\\n                    <p>1、起动风速：3 m/s</p>\\n                    <p>2、非线性误差的绝对值列表</p>\\n                        \\n                </div>\\n                <div class=\"tab\">\\n                    <table border=\"1\">\\n                        <tr>\\n                            <td class=\"head\">项目检测点</td>\\n                            <td class=\"para\">1</td>\\n                            <td class=\"para\">2</td>\\n                            <td class=\"para\">3</td>\\n                            <td class=\"para\">4</td>\\n                            <td class=\"para\">5</td>\\n                            <td class=\"para\">6</td>\\n                            <td class=\"para\">7</td>\\n                            <td class=\"para\">8</td>\\n                        </tr>\\n                        <tr>\\n                            <td class=\"head\">非线性误差绝对值(m/s)</td>\\n                            <td class=\"para\">4</td>\\n                            <td class=\"para\">5</td>\\n                            <td class=\"para\">6</td>\\n                            <td class=\"para\">7</td>\\n                            <td class=\"para\">8</td>\\n                            <td class=\"para\">9</td>\\n                            <td class=\"para\">10</td>\\n                            <td class=\"para\">11</td>\\n                        </tr>\\n                    </table>\\n                    <p>3.校准结果</p>\\n                    <img class=\"figure\" src=\"plt.png\">\\n                    <p>校准曲线公式：12</p>\\n                </div>\\n                <footer>\\n                    <p>13</p>\\n                </footer>\\n            </div>\\n\\n        </body>\\n        </html>\\n'"
      ]
     },
     "metadata": {},
     "execution_count": 12
    }
   ],
   "source": [
    "html_para = [1,2,3,4,5,6,7,8,9,10,11,12,13]\n",
    "html = \"\"\"\n",
    "        <!DOCTYPE html>\n",
    "        <html lang=\"zh-CN\">\n",
    "        <head>\n",
    "            <meta charset=\"utf-8\">\n",
    "            <title>校准结果</title>\n",
    "        </head>\n",
    "        <style>\n",
    "            .container{\n",
    "                width: 700px;\n",
    "                /* height: 1123px; */\n",
    "                height: 1000px;\n",
    "                margin-left: auto;\n",
    "                margin-right: auto;\n",
    "                border: 1px black solid;\n",
    "                overflow: hidden;\n",
    "            }\n",
    "            .title{\n",
    "                width: 600px;\n",
    "                overflow: hidden;\n",
    "                padding: 0;\n",
    "                word-break:break-all;\n",
    "                margin-left: auto;\n",
    "                margin-right: auto;\n",
    "                padding-top: 50px;\n",
    "            }\n",
    "            .title>h1{\n",
    "                text-align: center;\n",
    "                line-height: 20px;\n",
    "                padding-left: 20px;\n",
    "                padding-right: 20px;\n",
    "            }\n",
    "\n",
    "            p{\n",
    "                line-height: 15px;\n",
    "                padding-left: 20px;\n",
    "                padding-right: 20px;\n",
    "            }\n",
    "            .tab{\n",
    "                width: 600px;\n",
    "                padding: 0;\n",
    "                word-break:break-all;\n",
    "                margin-left: auto;\n",
    "                margin-right: auto;\n",
    "            }\n",
    "            table{\n",
    "                border-collapse: collapse;\n",
    "                text-align: center;\n",
    "                padding: 2px;\n",
    "            }\n",
    "            .figure{\n",
    "                width: 500px;\n",
    "                height: 500px;\n",
    "                padding-left: 50px;\n",
    "                padding-right: 50px;\n",
    "                \n",
    "            }\n",
    "            .head{\n",
    "                width: 120px;\n",
    "                height: 40px;\n",
    "            }\n",
    "            .para{\n",
    "                width: 60px;\n",
    "                height: 40px;\n",
    "            }\n",
    "            footer{\n",
    "                text-align: center;\n",
    "            }\n",
    "        </style>\n",
    "        <body>\n",
    "            <div class=\"container\">\n",
    "                <div class=\"title\">\n",
    "                    <h1>校准结果</h1>\n",
    "                    <h1>RESULTS OF CALIBRATIONS</h1>\n",
    "                    <p><strong>证书编号：%s</strong></h2>\n",
    "                    <p>Certificate  No:%s</h2>\n",
    "                    <p>1、起动风速：%s m/s</p>\n",
    "                    <p>2、非线性误差的绝对值列表</p>\n",
    "                        \n",
    "                </div>\n",
    "                <div class=\"tab\">\n",
    "                    <table border=\"1\">\n",
    "                        <tr>\n",
    "                            <td class=\"head\">项目检测点</td>\n",
    "                            <td class=\"para\">1</td>\n",
    "                            <td class=\"para\">2</td>\n",
    "                            <td class=\"para\">3</td>\n",
    "                            <td class=\"para\">4</td>\n",
    "                            <td class=\"para\">5</td>\n",
    "                            <td class=\"para\">6</td>\n",
    "                            <td class=\"para\">7</td>\n",
    "                            <td class=\"para\">8</td>\n",
    "                        </tr>\n",
    "                        <tr>\n",
    "                            <td class=\"head\">非线性误差绝对值(m/s)</td>\n",
    "                            <td class=\"para\">%s</td>\n",
    "                            <td class=\"para\">%s</td>\n",
    "                            <td class=\"para\">%s</td>\n",
    "                            <td class=\"para\">%s</td>\n",
    "                            <td class=\"para\">%s</td>\n",
    "                            <td class=\"para\">%s</td>\n",
    "                            <td class=\"para\">%s</td>\n",
    "                            <td class=\"para\">%s</td>\n",
    "                        </tr>\n",
    "                    </table>\n",
    "                    <p>3.校准结果</p>\n",
    "                    <img class=\"figure\" src=\"plt.png\">\n",
    "                    <p>校准曲线公式：%s</p>\n",
    "                </div>\n",
    "                <footer>\n",
    "                    <p>%s</p>\n",
    "                </footer>\n",
    "            </div>\n",
    "\n",
    "        </body>\n",
    "        </html>\n",
    "\"\"\"%tuple((html_para))\n",
    "html"
   ]
  }
 ]
}